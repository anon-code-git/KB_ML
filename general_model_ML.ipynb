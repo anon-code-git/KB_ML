{
 "cells": [
  {
   "cell_type": "code",
   "execution_count": null,
   "id": "bdf0ebbf",
   "metadata": {
    "scrolled": true
   },
   "outputs": [],
   "source": [
    "import pandas as pd\n",
    "\n",
    "filename = \"data.csv\"\n",
    "df = pd.read_csv(filename)\n",
    "df.drop([\"relation_label_of_suicide\"], axis = 1) # Elliminate non-numerical data"
   ]
  },
  {
   "cell_type": "code",
   "execution_count": null,
   "id": "fa3a6b7a",
   "metadata": {},
   "outputs": [],
   "source": [
    "n_feat = 12 # Choose between \"All\", 12, 8 or 1\n",
    "\n",
    "if n_feat == \"All\":\n",
    "    X = df.drop([\"target_label\", \"rule_based_output\"], axis=1)\n",
    "    # Elliminating golden standard and rule-based output\n",
    "    # Importance levels 1, 2, 3 and 4\n",
    "elif n_feat == 12:\n",
    "     X = df.drop([\n",
    "        \"target_label\", \"rule_based_output\", \n",
    "        \"gender\", \"ideation\", \"hopelessness\", \n",
    "        \"exposure_to_suicide\", \"suicidal_desire\"\n",
    "    ], axis=1)\n",
    "    # Elliminating (also) gender, suicide ideation, hopelesness, suicides of people near, and suicide desire\n",
    "    # Importance levels 1, 2, and 3\n",
    "elif n_feat == 8:\n",
    "    X = df.drop([\n",
    "        \"target_label\", \"rule_based_output\", \n",
    "        \"gender\", \"ideation\", \"hopelessness\", \n",
    "        \"exposure_to_suicide\", \"suicidal_desire\", \n",
    "        \"depression_score\", \"self_harm\", \"age\", \n",
    "        \"pain_tolerance\"\n",
    "    ], axis=1)\n",
    "    # Elliminating (also) depression, self-harm, age and tolerance for mental pain\n",
    "    # Importance levels 1 and 2\n",
    "elif n_feat == 1:\n",
    "    X = df.loc[:, df.columns == \"SCS\"]\n",
    "    # Only SCS-R (1 feature)\n",
    "    # Importance level 1\n",
    "\n",
    "y = df.loc[:, df.columns == \"target_label\"]"
   ]
  },
  {
   "cell_type": "code",
   "execution_count": 3,
   "id": "2aa25acd",
   "metadata": {},
   "outputs": [],
   "source": [
    "# Load all models\n",
    "from sklearn.naive_bayes import GaussianNB\n",
    "from sklearn.tree import DecisionTreeClassifier\n",
    "from sklearn.ensemble import RandomForestClassifier, ExtraTreesClassifier\n",
    "from xgboost import XGBClassifier\n",
    "from sklearn.linear_model import LinearRegression, LogisticRegression\n",
    "from sklearn import svm"
   ]
  },
  {
   "cell_type": "code",
   "execution_count": 4,
   "id": "367ef9c6",
   "metadata": {},
   "outputs": [],
   "source": [
    "from sklearn.metrics import confusion_matrix, ConfusionMatrixDisplay, classification_report\n",
    "import matplotlib.pyplot as plt"
   ]
  },
  {
   "cell_type": "code",
   "execution_count": null,
   "id": "45252d0c",
   "metadata": {},
   "outputs": [],
   "source": [
    "pred = []\n",
    "real = []\n",
    "Xtr = []\n",
    "realtr = []\n",
    "predtr = []\n",
    "for i in range(len(X.values)):\n",
    "    # data choice\n",
    "    X_train = X.drop(i)\n",
    "    y_train = y.drop(i)\n",
    "    X_test = [X.loc[i]]\n",
    "    y_test = y.loc[i]\n",
    "\n",
    "    # model definition and training - UNCOMMENT ONLY ONE OF THE FOLLOWING clf = \n",
    "    clf = DecisionTreeClassifier(criterion = \"entropy\")\n",
    "    clf = RandomForestClassifier(criterion = \"entropy\")\n",
    "    clf = ExtraTreesClassifier(criterion = \"entropy\")\n",
    "    clf = XGBClassifier()\n",
    "    clf = LinearRegression()\n",
    "    clf = LogisticRegression()\n",
    "    clf = svm.SVC(kernel='linear')\n",
    "    clf = GaussianNB() \n",
    "\n",
    "    clf.fit(X_train, y_train)\n",
    "\n",
    "    # test evaluation\n",
    "    b = clf.predict(X_test)\n",
    "    \n",
    "    pred.append(b[0])\n",
    "    real.append(y_test[0])"
   ]
  },
  {
   "cell_type": "code",
   "execution_count": null,
   "id": "c448fc3c",
   "metadata": {},
   "outputs": [],
   "source": [
    "print(classification_report(real,pred))\n",
    "c = confusion_matrix(real,pred)\n",
    "disp = ConfusionMatrixDisplay(c)\n",
    "disp.plot()\n",
    "plt.show()"
   ]
  }
 ],
 "metadata": {
  "kernelspec": {
   "display_name": "Python 3 (ipykernel)",
   "language": "python",
   "name": "python3"
  },
  "language_info": {
   "codemirror_mode": {
    "name": "ipython",
    "version": 3
   },
   "file_extension": ".py",
   "mimetype": "text/x-python",
   "name": "python",
   "nbconvert_exporter": "python",
   "pygments_lexer": "ipython3",
   "version": "3.10.9"
  }
 },
 "nbformat": 4,
 "nbformat_minor": 5
}
