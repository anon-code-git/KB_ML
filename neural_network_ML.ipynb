{
 "cells": [
  {
   "cell_type": "code",
   "execution_count": null,
   "id": "bdf0ebbf",
   "metadata": {
    "scrolled": true
   },
   "outputs": [],
   "source": [
    "import pandas as pd\n",
    "\n",
    "filename = \"data.csv\"\n",
    "df = pd.read_csv(filename)\n",
    "df.drop([\"relation_label_of_suicide\"], axis = 1) # Elliminate non-numerical data"
   ]
  },
  {
   "cell_type": "code",
   "execution_count": null,
   "id": "fa3a6b7a",
   "metadata": {},
   "outputs": [],
   "source": [
    "n_feat = 12 # Choose between \"All\", 12, 8 or 1\n",
    "\n",
    "if n_feat == \"All\":\n",
    "    X = df.drop([\"target_label\", \"rule_based_output\"], axis=1)\n",
    "    # Elliminating golden standard and rule-based output\n",
    "    # Importance levels 1, 2, 3 and 4\n",
    "elif n_feat == 12:\n",
    "     X = df.drop([\n",
    "        \"target_label\", \"rule_based_output\", \n",
    "        \"gender\", \"ideation\", \"hopelessness\", \n",
    "        \"exposure_to_suicide\", \"suicidal_desire\"\n",
    "    ], axis=1)\n",
    "    # Elliminating (also) gender, suicide ideation, hopelesness, suicides of people near, and suicide desire\n",
    "    # Importance levels 1, 2, and 3\n",
    "elif n_feat == 8:\n",
    "    X = df.drop([\n",
    "        \"target_label\", \"rule_based_output\", \n",
    "        \"gender\", \"ideation\", \"hopelessness\", \n",
    "        \"exposure_to_suicide\", \"suicidal_desire\", \n",
    "        \"depression_score\", \"self_harm\", \"age\", \n",
    "        \"pain_tolerance\"\n",
    "    ], axis=1)\n",
    "    # Elliminating (also) depression, self-harm, age and tolerance for mental pain\n",
    "    # Importance levels 1 and 2\n",
    "elif n_feat == 1:\n",
    "    X = df.loc[:, df.columns == \"SCS\"]\n",
    "    # Only SCS-R (1 feature)\n",
    "    # Importance level 1\n",
    "\n",
    "y = df.loc[:, df.columns == \"target_label\"]"
   ]
  },
  {
   "cell_type": "code",
   "execution_count": null,
   "id": "2aa25acd",
   "metadata": {},
   "outputs": [],
   "source": [
    "# keras modelo sekuentziala\n",
    "import keras\n",
    "from keras.models import Sequential\n",
    "from keras.layers.core import Dense"
   ]
  },
  {
   "cell_type": "code",
   "execution_count": null,
   "id": "367ef9c6",
   "metadata": {},
   "outputs": [],
   "source": [
    "from sklearn.metrics import confusion_matrix, ConfusionMatrixDisplay, classification_report\n",
    "import matplotlib.pyplot as plt\n",
    "import numpy as np\n",
    "import tensorflow as tf\n",
    "import random\n",
    "\n",
    "SEED = 42\n",
    "np.random.seed(SEED)\n",
    "random.seed(SEED)\n",
    "tf.random.set_seed(SEED)"
   ]
  },
  {
   "cell_type": "code",
   "execution_count": null,
   "id": "45252d0c",
   "metadata": {},
   "outputs": [],
   "source": [
    "pred = []\n",
    "real = []\n",
    "Xtr = []\n",
    "realtr = []\n",
    "predtr = []\n",
    "for i in range(len(X.values)):\n",
    "    # data choice\n",
    "    print(str(i) + \"/\" + str(len(X.values)))\n",
    "    X_train = X.drop(i)\n",
    "    y_train = y.drop(i)\n",
    "    X_test = X.loc[[i]]\n",
    "    y_test = y.loc[i]\n",
    "\n",
    "    # model definition and training\n",
    "    clf = Sequential()\n",
    "    input_ = keras.layers.Input(shape=(1,len(X_train.values[0])))\n",
    "    clf.add(Dense(30, activation='relu'))\n",
    "    clf.add(Dense(30, activation='relu'))\n",
    "    clf.add(Dense(30, activation='relu'))\n",
    "    clf.add(Dense(3, activation='softmax'))\n",
    "    clf.compile(loss='sparse_categorical_crossentropy', optimizer='adam', metrics=['accuracy'])\n",
    "    clf.fit(X_train, y_train, epochs = 100)\n",
    "\n",
    "    # test evaluation\n",
    "    emaitza = clf.predict(X_test)\n",
    "    pred.append(np.argmax(emaitza[0]))\n",
    "    real.append(y_test[0])"
   ]
  },
  {
   "cell_type": "code",
   "execution_count": null,
   "id": "dbf748da",
   "metadata": {},
   "outputs": [],
   "source": [
    "c = confusion_matrix(real, pred)\n",
    "print(classification_report(real, pred))\n",
    "disp = ConfusionMatrixDisplay(c)\n",
    "disp.plot()\n",
    "plt.show()"
   ]
  }
 ],
 "metadata": {
  "kernelspec": {
   "display_name": "Python 3 (ipykernel)",
   "language": "python",
   "name": "python3"
  },
  "language_info": {
   "codemirror_mode": {
    "name": "ipython",
    "version": 3
   },
   "file_extension": ".py",
   "mimetype": "text/x-python",
   "name": "python",
   "nbconvert_exporter": "python",
   "pygments_lexer": "ipython3",
   "version": "3.10.9"
  }
 },
 "nbformat": 4,
 "nbformat_minor": 5
}
